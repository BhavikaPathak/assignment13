{
 "cells": [
  {
   "cell_type": "code",
   "execution_count": 1,
   "id": "ad5f3713-633f-47d4-83f1-6396d564a624",
   "metadata": {},
   "outputs": [],
   "source": [
    "#                          ANSWER 1\n",
    "#A database is an organized collection of structured information, or data, typically stored electronically in a computer system. A database is usually controlled by a database management system (DBMS).\n",
    "#SQL, which stands for “Structured Query Language,” is the programming language.\n",
    "#SQL databases are valuable in handling structured data, or data that has relationships between its variables and entities.\n",
    "#“NoSQL” is defined as “not only SQL.”\n",
    "#NoSQL systems allow you to work with different data structures within a database. Because they allow a dynamic schema for unstructured data, there’s less need to pre-plan and pre-organize data, and it’s easier to make modifications."
   ]
  },
  {
   "cell_type": "code",
   "execution_count": 2,
   "id": "e8fc432e-7884-4a42-8c94-80eb7e215bf2",
   "metadata": {},
   "outputs": [],
   "source": [
    "#                             ANSWER 2\n",
    "#A data definition language (DDL) is a computer language used to create and modify the structure of database objects in a database. These database objects include views, schemas, tables, indexes, etc.\n",
    "#CREATE :\n",
    "#This command is used to create a new table in SQL. \n",
    "#CREATE TABLE Student_info\n",
    "#(\n",
    "#    College_Id INT(2),\n",
    "#  College_name VARCHAR(30),\n",
    "#    Branch VARCHAR(10)\n",
    "#);\n",
    "#ALTER :\n",
    "#This command is used to add, delete or change columns in the existing table. The user needs to know the existing table name and can do add, delete or modify tasks easily.\n",
    "#ALTER TABLE Student_info\n",
    "#ADD CGPA number;\n",
    "#TRUNCATE :\n",
    "#This command is used to remove all rows from the table, but the structure of the table still exists.\n",
    "#TRUNCATE TABLE Student_info;\n",
    "#DROP :\n",
    "#This command is used to remove an existing table along with its structure from the Database.\n",
    "#DROP TABLE Student_info;"
   ]
  },
  {
   "cell_type": "code",
   "execution_count": 3,
   "id": "34dd8254-78a2-40a6-a35f-5ab2e2e5d733",
   "metadata": {},
   "outputs": [],
   "source": [
    "#                               ANSWER 3\n",
    "#DML is Data Manipulation Language which is used to manipulate data itself.\n",
    "#The INSERT statement is used to insert a new row in the database that is adding data to a table.\n",
    "#The UPDATE statement is used to update the data or row in the table.\n",
    "#The DELETE statement is used to delete a row from the table in the database.\n",
    "#import mysql.connector\n",
    "#mydb = mysql.connector.connect(\n",
    "# host=\"localhost\",\n",
    "#  user=\"abc\",\n",
    "#  password=\"password\"\n",
    "#)\n",
    "#mycursor = mydb.cursor()\n",
    "#mycursor.execute(\"CREATE DATABASE IF NOT EXISTS student\")\n",
    "#mycursor.execute(\"CREATE TABLE if not exists student.student_info(college_id INT , college_name VARCHAR(50) , brance_name VARCHAR(30))\")\n",
    "#mycursor.execute(\"insert into student.student_info values (123 ,'FGIET' , 'mechanical' )\")\n",
    "#mycursor.execute(\"insert into student.student_info values (125 ,'FGIET' , 'aero' )\")\n",
    "#mycursor.execute(\"insert into student.student_info values (126 ,'FGIET' , 'electrical' )\")\n",
    "#mycursor.execute(\"insert into student.student_info values (128 ,'FGIET' , 'chemical' )\")\n",
    "#mycursor.execute(\"insert into student.student_info values (124 ,'FGIET' , 'Cs' )\")\n",
    "#mycursor.execute(\"update student.student_info set college_id = 224 where brance_name = 'Cs' \")\n",
    "#mycursor.execute(\"delete from student.student_info where college_id = 224 \")\n",
    "##mycursor.execute(\"select * from student.student_info\")\n",
    "#mydb.commit()\n",
    "#mydb.close()"
   ]
  },
  {
   "cell_type": "code",
   "execution_count": 4,
   "id": "1ac8c096-e5a6-4991-bdd9-8b983f4a382b",
   "metadata": {},
   "outputs": [],
   "source": [
    "#                                    ANSWER 4 \n",
    "#DQL – Data Query Language\n",
    "#DQL statements are used for performing queries on the data within schema objects. The purpose of the DQL Command is to get some schema relation based on the query passed to it.\n",
    "#SELECT: It is used to retrieve data from the database.\n",
    "#SELECT emp_name  \n",
    "#FROM employee  \n",
    "#WHERE age > 20;"
   ]
  },
  {
   "cell_type": "code",
   "execution_count": 5,
   "id": "dca40cf6-6a06-4662-947d-2dc71efc5b51",
   "metadata": {},
   "outputs": [],
   "source": [
    "#                                     ANSWER 5\n",
    "#Primary Key: \n",
    "#A primary key is used to ensure that data in the specific column is unique. A column cannot have NULL values. It is either an existing table column or a column that is specifically generated by the database according to a defined sequence.\n",
    "#Foreign Key: \n",
    "#A foreign key is a column or group of columns in a relational database table that provides a link between data in two tables. It is a column (or columns) that references a column (most often the primary key) of another table."
   ]
  },
  {
   "cell_type": "code",
   "execution_count": 6,
   "id": "f45a7516-46b4-401b-b4b0-50e3e06675f7",
   "metadata": {},
   "outputs": [],
   "source": [
    "#                                     ANSWER 6\n",
    "#PIP install mysql.connector\n",
    "#import mysql.connector\n",
    "#mydb = mysql.connector.connect(\n",
    "#  host=\"localhost\",\n",
    "#  user=\"abc\",\n",
    "#  password=\"password\"\n",
    "#)\n",
    "#print(mydb)\n",
    "#mycursor = mydb.cursor()\n",
    "#mycursor.execute(\"SHOW DATABASES\")\n",
    "#for x in mycursor:\n",
    "#  print(x)\n",
    "\n",
    "#Allows Python code to execute PostgreSQL command in a database session. Cursors are created by the connection.cursor() method: they are bound to the connection for the entire lifetime and all the commands are executed in the context of the database session wrapped by the connection\n",
    "#The Execute method executes a specified query, SQL statement, stored procedure, or provider-specific text."
   ]
  },
  {
   "cell_type": "code",
   "execution_count": 7,
   "id": "242bd7b7-2d90-4b24-a98a-a68ebcc1c2f9",
   "metadata": {},
   "outputs": [],
   "source": [
    "#                                     ANSWER 7\n",
    "#FROM clause\n",
    "#ON clause\n",
    "#OUTER clause\n",
    "#WHERE clause\n",
    "#GROUP BY clause\n",
    "#HAVING clause\n",
    "#SELECT clause\n",
    "#DISTINCT clause\n",
    "#ORDER BY clause\n",
    "#TOP clause"
   ]
  },
  {
   "cell_type": "code",
   "execution_count": null,
   "id": "aeedca60-7b47-4e1a-ae0e-390ba83e565e",
   "metadata": {},
   "outputs": [],
   "source": []
  }
 ],
 "metadata": {
  "kernelspec": {
   "display_name": "Python 3 (ipykernel)",
   "language": "python",
   "name": "python3"
  },
  "language_info": {
   "codemirror_mode": {
    "name": "ipython",
    "version": 3
   },
   "file_extension": ".py",
   "mimetype": "text/x-python",
   "name": "python",
   "nbconvert_exporter": "python",
   "pygments_lexer": "ipython3",
   "version": "3.10.8"
  }
 },
 "nbformat": 4,
 "nbformat_minor": 5
}
